{
 "cells": [
  {
   "cell_type": "code",
   "execution_count": null,
   "id": "f825bfb6-c73d-43bb-9663-932028457540",
   "metadata": {},
   "outputs": [],
   "source": [
    "from bs4 import BeautifulSoup\n",
    "import requests"
   ]
  },
  {
   "cell_type": "code",
   "execution_count": null,
   "id": "f4f0c861-39c3-4d8d-aa6c-7898c4605400",
   "metadata": {},
   "outputs": [],
   "source": [
    "url =input(\"Enter the wikipedia link\")"
   ]
  },
  {
   "cell_type": "code",
   "execution_count": null,
   "id": "82eb7110-e3e4-43ca-abd3-80b68eaf1ffc",
   "metadata": {},
   "outputs": [],
   "source": [
    "page=requests.get(url)\n",
    "soup=BeautifulSoup(page.text,'html.parser')\n"
   ]
  },
  {
   "cell_type": "markdown",
   "id": "31aa0309-723c-4059-868a-cec7f9211e59",
   "metadata": {},
   "source": [
    "Required information:\n",
    "1.Page title\n",
    "2.First paragraph of main content\n",
    "3.External links\n",
    "4.Images"
   ]
  },
  {
   "cell_type": "markdown",
   "id": "ea01b02c-4060-41c1-b9d9-abb6f2b12b34",
   "metadata": {},
   "source": [
    "Printing the title of the wikipedia page:"
   ]
  },
  {
   "cell_type": "code",
   "execution_count": null,
   "id": "9a7121d6-6a0e-478b-b2e7-ac0de144d9c3",
   "metadata": {},
   "outputs": [],
   "source": [
    "tag=soup.title\n",
    "print(tag.string)"
   ]
  },
  {
   "cell_type": "markdown",
   "id": "1d92132b-31ad-46b7-8476-c1e9a63c3b06",
   "metadata": {},
   "source": [
    "Printing the all paragraphs of the wikipedia page:"
   ]
  },
  {
   "cell_type": "code",
   "execution_count": null,
   "id": "78e062cc-195b-43a0-87f3-4fa72317715d",
   "metadata": {},
   "outputs": [],
   "source": [
    "data=''\n",
    "for data in soup.find_all(\"p\"): \n",
    "    a=data.get_text()\n",
    "    print(a,end='')"
   ]
  },
  {
   "cell_type": "markdown",
   "id": "4195c9cb-7cac-48be-849e-98ecf06377b2",
   "metadata": {},
   "source": [
    "Printing only the first paragraph:"
   ]
  },
  {
   "cell_type": "code",
   "execution_count": null,
   "id": "d1fc14e6-f6e7-41d1-a908-3e3a16968ef1",
   "metadata": {},
   "outputs": [],
   "source": [
    "data=''\n",
    "for data in soup.find_all(\"p\")[0]: \n",
    "    a=data.get_text()\n",
    "    print(a,end='')"
   ]
  },
  {
   "cell_type": "markdown",
   "id": "be773bf0-b86b-4f8d-971b-eeec797a068f",
   "metadata": {},
   "source": [
    "Printing all the links in the wikipedia page:"
   ]
  },
  {
   "cell_type": "code",
   "execution_count": null,
   "id": "84bbbc8d-3f5a-4479-8de6-3b1b680643d2",
   "metadata": {},
   "outputs": [],
   "source": [
    "links = soup.find_all('a', href=True)\n",
    "        \n",
    "extracted_links = [link['href'] for link in links]\n",
    "        \n",
    "wikipedia_links = [link for link in extracted_links if link.startswith('/wiki/')]\n",
    "        \n",
    "wikipedia_links = ['https://en.wikipedia.org' + link for link in wikipedia_links]\n",
    "\n",
    "for i in wikipedia_links:\n",
    "    print(i)\n",
    "        "
   ]
  },
  {
   "cell_type": "markdown",
   "id": "e3f11b5f-512c-4080-a6ae-987f8b847a5a",
   "metadata": {},
   "source": [
    "Printing all the image links in the wikipedia page:"
   ]
  },
  {
   "cell_type": "code",
   "execution_count": null,
   "id": "188727c5-c4fc-4e3c-b41f-34038cf9a1ee",
   "metadata": {},
   "outputs": [],
   "source": [
    "images = soup.find_all('img')\n",
    "for image in images:\n",
    "        image_url = image.get('src')\n",
    "        if image_url:\n",
    "            print(image_url)\n",
    "            print() "
   ]
  },
  {
   "cell_type": "markdown",
   "id": "bb8d4671-ebc3-46bc-9e47-99dac6cc3014",
   "metadata": {},
   "source": [
    "All targets achieved!"
   ]
  }
 ],
 "metadata": {
  "kernelspec": {
   "display_name": "Python 3 (ipykernel)",
   "language": "python",
   "name": "python3"
  },
  "language_info": {
   "codemirror_mode": {
    "name": "ipython",
    "version": 3
   },
   "file_extension": ".py",
   "mimetype": "text/x-python",
   "name": "python",
   "nbconvert_exporter": "python",
   "pygments_lexer": "ipython3",
   "version": "3.11.9"
  }
 },
 "nbformat": 4,
 "nbformat_minor": 5
}
